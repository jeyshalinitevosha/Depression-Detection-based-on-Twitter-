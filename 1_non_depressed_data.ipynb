{
 "cells": [
  {
   "cell_type": "code",
   "execution_count": 27,
   "metadata": {},
   "outputs": [],
   "source": [
    "import numpy as np \n",
    "import pandas as pd\n",
    "import re"
   ]
  },
  {
   "cell_type": "code",
   "execution_count": null,
   "metadata": {},
   "outputs": [],
   "source": [
    "#configure TWINT\n",
    "t = twint.Config()\n",
    "\n",
    "t.Search = \"fun\", \"good\", \"happy\", \"thankful\"\n",
    "t.Lang = \"en\"\n",
    "t.Limit = 5000\n",
    "t.Year = 2020\n",
    "t.Store_csv = True\n",
    "t.Output = \"data/non_depressed_tweets.csv\"\n",
    "\n",
    "twint.run.Search(t)"
   ]
  },
  {
   "cell_type": "code",
   "execution_count": 10,
   "metadata": {},
   "outputs": [
    {
     "data": {
      "text/plain": [
       "5322"
      ]
     },
     "execution_count": 10,
     "metadata": {},
     "output_type": "execute_result"
    }
   ],
   "source": [
    "df = pd.read_csv(\"data/non_depressed_tweets.csv\")\n",
    "len(df)"
   ]
  },
  {
   "cell_type": "code",
   "execution_count": 11,
   "metadata": {},
   "outputs": [
    {
     "data": {
      "text/html": [
       "<div>\n",
       "<style scoped>\n",
       "    .dataframe tbody tr th:only-of-type {\n",
       "        vertical-align: middle;\n",
       "    }\n",
       "\n",
       "    .dataframe tbody tr th {\n",
       "        vertical-align: top;\n",
       "    }\n",
       "\n",
       "    .dataframe thead th {\n",
       "        text-align: right;\n",
       "    }\n",
       "</style>\n",
       "<table border=\"1\" class=\"dataframe\">\n",
       "  <thead>\n",
       "    <tr style=\"text-align: right;\">\n",
       "      <th></th>\n",
       "      <th>id</th>\n",
       "      <th>username</th>\n",
       "      <th>tweet</th>\n",
       "    </tr>\n",
       "  </thead>\n",
       "  <tbody>\n",
       "    <tr>\n",
       "      <th>0</th>\n",
       "      <td>1932968306</td>\n",
       "      <td>finarocks</td>\n",
       "      <td>is really digging The Horrors right now</td>\n",
       "    </tr>\n",
       "    <tr>\n",
       "      <th>1</th>\n",
       "      <td>1932968371</td>\n",
       "      <td>sampada</td>\n",
       "      <td>@shradhac Thanks</td>\n",
       "    </tr>\n",
       "    <tr>\n",
       "      <th>2</th>\n",
       "      <td>1932968382</td>\n",
       "      <td>yay4renee</td>\n",
       "      <td>Just got done watching some Buffy. Hurray it's...</td>\n",
       "    </tr>\n",
       "    <tr>\n",
       "      <th>3</th>\n",
       "      <td>1932968415</td>\n",
       "      <td>eddric</td>\n",
       "      <td>@mastertaxton hey, just checking. I'll be in e...</td>\n",
       "    </tr>\n",
       "    <tr>\n",
       "      <th>4</th>\n",
       "      <td>1932968442</td>\n",
       "      <td>riztacular</td>\n",
       "      <td>Since when was being courteous crime? Somehow ...</td>\n",
       "    </tr>\n",
       "    <tr>\n",
       "      <th>5</th>\n",
       "      <td>1932968477</td>\n",
       "      <td>LaverneLOVE</td>\n",
       "      <td>@mirrortiffanyj finish @mariosoultruth quote!</td>\n",
       "    </tr>\n",
       "    <tr>\n",
       "      <th>6</th>\n",
       "      <td>1932968506</td>\n",
       "      <td>nic0lepaula</td>\n",
       "      <td>Different types of mochi for dessert... Attack...</td>\n",
       "    </tr>\n",
       "    <tr>\n",
       "      <th>7</th>\n",
       "      <td>1932968507</td>\n",
       "      <td>pookeynoodlex</td>\n",
       "      <td>@victoriaaa_ lol wing it ;) gotta goooo by bye...</td>\n",
       "    </tr>\n",
       "    <tr>\n",
       "      <th>8</th>\n",
       "      <td>1932968564</td>\n",
       "      <td>thehappykid</td>\n",
       "      <td>@punkful dati i get to talk to handlers pa whe...</td>\n",
       "    </tr>\n",
       "    <tr>\n",
       "      <th>9</th>\n",
       "      <td>1932968574</td>\n",
       "      <td>lain7</td>\n",
       "      <td>@daveo0 thanks, me too</td>\n",
       "    </tr>\n",
       "  </tbody>\n",
       "</table>\n",
       "</div>"
      ],
      "text/plain": [
       "           id       username  \\\n",
       "0  1932968306      finarocks   \n",
       "1  1932968371        sampada   \n",
       "2  1932968382      yay4renee   \n",
       "3  1932968415         eddric   \n",
       "4  1932968442     riztacular   \n",
       "5  1932968477    LaverneLOVE   \n",
       "6  1932968506    nic0lepaula   \n",
       "7  1932968507  pookeynoodlex   \n",
       "8  1932968564    thehappykid   \n",
       "9  1932968574          lain7   \n",
       "\n",
       "                                               tweet  \n",
       "0           is really digging The Horrors right now   \n",
       "1                                  @shradhac Thanks   \n",
       "2  Just got done watching some Buffy. Hurray it's...  \n",
       "3  @mastertaxton hey, just checking. I'll be in e...  \n",
       "4  Since when was being courteous crime? Somehow ...  \n",
       "5     @mirrortiffanyj finish @mariosoultruth quote!   \n",
       "6  Different types of mochi for dessert... Attack...  \n",
       "7  @victoriaaa_ lol wing it ;) gotta goooo by bye...  \n",
       "8  @punkful dati i get to talk to handlers pa whe...  \n",
       "9                            @daveo0 thanks, me too   "
      ]
     },
     "execution_count": 11,
     "metadata": {},
     "output_type": "execute_result"
    }
   ],
   "source": [
    "df.head(10)"
   ]
  },
  {
   "cell_type": "code",
   "execution_count": 17,
   "metadata": {},
   "outputs": [
    {
     "data": {
      "text/plain": [
       "(5316, 3)"
      ]
     },
     "execution_count": 17,
     "metadata": {},
     "output_type": "execute_result"
    }
   ],
   "source": [
    "#remove duplicates\n",
    "df = df.drop_duplicates(subset = [\"id\"])\n",
    "df.shape"
   ]
  },
  {
   "cell_type": "code",
   "execution_count": 18,
   "metadata": {},
   "outputs": [],
   "source": [
    "#create a column containing tweets without hashtags\n",
    "df[\"mod_text\"] = df[\"tweet\"].apply(lambda x: re.sub(r'#\\w+', '', x))"
   ]
  },
  {
   "cell_type": "code",
   "execution_count": 20,
   "metadata": {},
   "outputs": [
    {
     "data": {
      "text/html": [
       "<div>\n",
       "<style scoped>\n",
       "    .dataframe tbody tr th:only-of-type {\n",
       "        vertical-align: middle;\n",
       "    }\n",
       "\n",
       "    .dataframe tbody tr th {\n",
       "        vertical-align: top;\n",
       "    }\n",
       "\n",
       "    .dataframe thead th {\n",
       "        text-align: right;\n",
       "    }\n",
       "</style>\n",
       "<table border=\"1\" class=\"dataframe\">\n",
       "  <thead>\n",
       "    <tr style=\"text-align: right;\">\n",
       "      <th></th>\n",
       "      <th>id</th>\n",
       "      <th>username</th>\n",
       "      <th>tweet</th>\n",
       "      <th>mod_text</th>\n",
       "    </tr>\n",
       "  </thead>\n",
       "  <tbody>\n",
       "    <tr>\n",
       "      <th>0</th>\n",
       "      <td>1932968306</td>\n",
       "      <td>finarocks</td>\n",
       "      <td>is really digging The Horrors right now</td>\n",
       "      <td>is really digging The Horrors right now</td>\n",
       "    </tr>\n",
       "    <tr>\n",
       "      <th>1</th>\n",
       "      <td>1932968371</td>\n",
       "      <td>sampada</td>\n",
       "      <td>@shradhac Thanks</td>\n",
       "      <td>@shradhac Thanks</td>\n",
       "    </tr>\n",
       "    <tr>\n",
       "      <th>2</th>\n",
       "      <td>1932968382</td>\n",
       "      <td>yay4renee</td>\n",
       "      <td>Just got done watching some Buffy. Hurray it's...</td>\n",
       "      <td>Just got done watching some Buffy. Hurray it's...</td>\n",
       "    </tr>\n",
       "    <tr>\n",
       "      <th>3</th>\n",
       "      <td>1932968415</td>\n",
       "      <td>eddric</td>\n",
       "      <td>@mastertaxton hey, just checking. I'll be in e...</td>\n",
       "      <td>@mastertaxton hey, just checking. I'll be in e...</td>\n",
       "    </tr>\n",
       "    <tr>\n",
       "      <th>4</th>\n",
       "      <td>1932968442</td>\n",
       "      <td>riztacular</td>\n",
       "      <td>Since when was being courteous crime? Somehow ...</td>\n",
       "      <td>Since when was being courteous crime? Somehow ...</td>\n",
       "    </tr>\n",
       "    <tr>\n",
       "      <th>5</th>\n",
       "      <td>1932968477</td>\n",
       "      <td>LaverneLOVE</td>\n",
       "      <td>@mirrortiffanyj finish @mariosoultruth quote!</td>\n",
       "      <td>@mirrortiffanyj finish @mariosoultruth quote!</td>\n",
       "    </tr>\n",
       "    <tr>\n",
       "      <th>6</th>\n",
       "      <td>1932968506</td>\n",
       "      <td>nic0lepaula</td>\n",
       "      <td>Different types of mochi for dessert... Attack...</td>\n",
       "      <td>Different types of mochi for dessert... Attack...</td>\n",
       "    </tr>\n",
       "    <tr>\n",
       "      <th>7</th>\n",
       "      <td>1932968507</td>\n",
       "      <td>pookeynoodlex</td>\n",
       "      <td>@victoriaaa_ lol wing it ;) gotta goooo by bye...</td>\n",
       "      <td>@victoriaaa_ lol wing it ;) gotta goooo by bye...</td>\n",
       "    </tr>\n",
       "    <tr>\n",
       "      <th>8</th>\n",
       "      <td>1932968564</td>\n",
       "      <td>thehappykid</td>\n",
       "      <td>@punkful dati i get to talk to handlers pa whe...</td>\n",
       "      <td>@punkful dati i get to talk to handlers pa whe...</td>\n",
       "    </tr>\n",
       "    <tr>\n",
       "      <th>9</th>\n",
       "      <td>1932968574</td>\n",
       "      <td>lain7</td>\n",
       "      <td>@daveo0 thanks, me too</td>\n",
       "      <td>@daveo0 thanks, me too</td>\n",
       "    </tr>\n",
       "  </tbody>\n",
       "</table>\n",
       "</div>"
      ],
      "text/plain": [
       "           id       username  \\\n",
       "0  1932968306      finarocks   \n",
       "1  1932968371        sampada   \n",
       "2  1932968382      yay4renee   \n",
       "3  1932968415         eddric   \n",
       "4  1932968442     riztacular   \n",
       "5  1932968477    LaverneLOVE   \n",
       "6  1932968506    nic0lepaula   \n",
       "7  1932968507  pookeynoodlex   \n",
       "8  1932968564    thehappykid   \n",
       "9  1932968574          lain7   \n",
       "\n",
       "                                               tweet  \\\n",
       "0           is really digging The Horrors right now    \n",
       "1                                  @shradhac Thanks    \n",
       "2  Just got done watching some Buffy. Hurray it's...   \n",
       "3  @mastertaxton hey, just checking. I'll be in e...   \n",
       "4  Since when was being courteous crime? Somehow ...   \n",
       "5     @mirrortiffanyj finish @mariosoultruth quote!    \n",
       "6  Different types of mochi for dessert... Attack...   \n",
       "7  @victoriaaa_ lol wing it ;) gotta goooo by bye...   \n",
       "8  @punkful dati i get to talk to handlers pa whe...   \n",
       "9                            @daveo0 thanks, me too    \n",
       "\n",
       "                                            mod_text  \n",
       "0           is really digging The Horrors right now   \n",
       "1                                  @shradhac Thanks   \n",
       "2  Just got done watching some Buffy. Hurray it's...  \n",
       "3  @mastertaxton hey, just checking. I'll be in e...  \n",
       "4  Since when was being courteous crime? Somehow ...  \n",
       "5     @mirrortiffanyj finish @mariosoultruth quote!   \n",
       "6  Different types of mochi for dessert... Attack...  \n",
       "7  @victoriaaa_ lol wing it ;) gotta goooo by bye...  \n",
       "8  @punkful dati i get to talk to handlers pa whe...  \n",
       "9                            @daveo0 thanks, me too   "
      ]
     },
     "execution_count": 20,
     "metadata": {},
     "output_type": "execute_result"
    }
   ],
   "source": [
    "df.head(10)"
   ]
  },
  {
   "cell_type": "code",
   "execution_count": 21,
   "metadata": {},
   "outputs": [],
   "source": [
    "col_list = [\"username\", \"mod_text\"]\n",
    "df_final = df[col_list]\n",
    "df_final = df_final.rename(columns={\"mod_text\": \"tweet_processed\"})"
   ]
  },
  {
   "cell_type": "code",
   "execution_count": 22,
   "metadata": {},
   "outputs": [
    {
     "data": {
      "text/html": [
       "<div>\n",
       "<style scoped>\n",
       "    .dataframe tbody tr th:only-of-type {\n",
       "        vertical-align: middle;\n",
       "    }\n",
       "\n",
       "    .dataframe tbody tr th {\n",
       "        vertical-align: top;\n",
       "    }\n",
       "\n",
       "    .dataframe thead th {\n",
       "        text-align: right;\n",
       "    }\n",
       "</style>\n",
       "<table border=\"1\" class=\"dataframe\">\n",
       "  <thead>\n",
       "    <tr style=\"text-align: right;\">\n",
       "      <th></th>\n",
       "      <th>username</th>\n",
       "      <th>tweet_processed</th>\n",
       "    </tr>\n",
       "  </thead>\n",
       "  <tbody>\n",
       "    <tr>\n",
       "      <th>0</th>\n",
       "      <td>finarocks</td>\n",
       "      <td>is really digging The Horrors right now</td>\n",
       "    </tr>\n",
       "    <tr>\n",
       "      <th>1</th>\n",
       "      <td>sampada</td>\n",
       "      <td>@shradhac Thanks</td>\n",
       "    </tr>\n",
       "    <tr>\n",
       "      <th>2</th>\n",
       "      <td>yay4renee</td>\n",
       "      <td>Just got done watching some Buffy. Hurray it's...</td>\n",
       "    </tr>\n",
       "    <tr>\n",
       "      <th>3</th>\n",
       "      <td>eddric</td>\n",
       "      <td>@mastertaxton hey, just checking. I'll be in e...</td>\n",
       "    </tr>\n",
       "    <tr>\n",
       "      <th>4</th>\n",
       "      <td>riztacular</td>\n",
       "      <td>Since when was being courteous crime? Somehow ...</td>\n",
       "    </tr>\n",
       "    <tr>\n",
       "      <th>5</th>\n",
       "      <td>LaverneLOVE</td>\n",
       "      <td>@mirrortiffanyj finish @mariosoultruth quote!</td>\n",
       "    </tr>\n",
       "    <tr>\n",
       "      <th>6</th>\n",
       "      <td>nic0lepaula</td>\n",
       "      <td>Different types of mochi for dessert... Attack...</td>\n",
       "    </tr>\n",
       "    <tr>\n",
       "      <th>7</th>\n",
       "      <td>pookeynoodlex</td>\n",
       "      <td>@victoriaaa_ lol wing it ;) gotta goooo by bye...</td>\n",
       "    </tr>\n",
       "    <tr>\n",
       "      <th>8</th>\n",
       "      <td>thehappykid</td>\n",
       "      <td>@punkful dati i get to talk to handlers pa whe...</td>\n",
       "    </tr>\n",
       "    <tr>\n",
       "      <th>9</th>\n",
       "      <td>lain7</td>\n",
       "      <td>@daveo0 thanks, me too</td>\n",
       "    </tr>\n",
       "  </tbody>\n",
       "</table>\n",
       "</div>"
      ],
      "text/plain": [
       "        username                                    tweet_processed\n",
       "0      finarocks           is really digging The Horrors right now \n",
       "1        sampada                                  @shradhac Thanks \n",
       "2      yay4renee  Just got done watching some Buffy. Hurray it's...\n",
       "3         eddric  @mastertaxton hey, just checking. I'll be in e...\n",
       "4     riztacular  Since when was being courteous crime? Somehow ...\n",
       "5    LaverneLOVE     @mirrortiffanyj finish @mariosoultruth quote! \n",
       "6    nic0lepaula  Different types of mochi for dessert... Attack...\n",
       "7  pookeynoodlex  @victoriaaa_ lol wing it ;) gotta goooo by bye...\n",
       "8    thehappykid  @punkful dati i get to talk to handlers pa whe...\n",
       "9          lain7                            @daveo0 thanks, me too "
      ]
     },
     "execution_count": 22,
     "metadata": {},
     "output_type": "execute_result"
    }
   ],
   "source": [
    "df_final.head(10)"
   ]
  },
  {
   "cell_type": "code",
   "execution_count": 23,
   "metadata": {},
   "outputs": [],
   "source": [
    "df_final[\"target\"] = 0"
   ]
  },
  {
   "cell_type": "code",
   "execution_count": 24,
   "metadata": {},
   "outputs": [
    {
     "data": {
      "text/html": [
       "<div>\n",
       "<style scoped>\n",
       "    .dataframe tbody tr th:only-of-type {\n",
       "        vertical-align: middle;\n",
       "    }\n",
       "\n",
       "    .dataframe tbody tr th {\n",
       "        vertical-align: top;\n",
       "    }\n",
       "\n",
       "    .dataframe thead th {\n",
       "        text-align: right;\n",
       "    }\n",
       "</style>\n",
       "<table border=\"1\" class=\"dataframe\">\n",
       "  <thead>\n",
       "    <tr style=\"text-align: right;\">\n",
       "      <th></th>\n",
       "      <th>username</th>\n",
       "      <th>tweet_processed</th>\n",
       "      <th>target</th>\n",
       "    </tr>\n",
       "  </thead>\n",
       "  <tbody>\n",
       "    <tr>\n",
       "      <th>0</th>\n",
       "      <td>finarocks</td>\n",
       "      <td>is really digging The Horrors right now</td>\n",
       "      <td>0</td>\n",
       "    </tr>\n",
       "    <tr>\n",
       "      <th>1</th>\n",
       "      <td>sampada</td>\n",
       "      <td>@shradhac Thanks</td>\n",
       "      <td>0</td>\n",
       "    </tr>\n",
       "    <tr>\n",
       "      <th>2</th>\n",
       "      <td>yay4renee</td>\n",
       "      <td>Just got done watching some Buffy. Hurray it's...</td>\n",
       "      <td>0</td>\n",
       "    </tr>\n",
       "    <tr>\n",
       "      <th>3</th>\n",
       "      <td>eddric</td>\n",
       "      <td>@mastertaxton hey, just checking. I'll be in e...</td>\n",
       "      <td>0</td>\n",
       "    </tr>\n",
       "    <tr>\n",
       "      <th>4</th>\n",
       "      <td>riztacular</td>\n",
       "      <td>Since when was being courteous crime? Somehow ...</td>\n",
       "      <td>0</td>\n",
       "    </tr>\n",
       "  </tbody>\n",
       "</table>\n",
       "</div>"
      ],
      "text/plain": [
       "     username                                    tweet_processed  target\n",
       "0   finarocks           is really digging The Horrors right now        0\n",
       "1     sampada                                  @shradhac Thanks        0\n",
       "2   yay4renee  Just got done watching some Buffy. Hurray it's...       0\n",
       "3      eddric  @mastertaxton hey, just checking. I'll be in e...       0\n",
       "4  riztacular  Since when was being courteous crime? Somehow ...       0"
      ]
     },
     "execution_count": 24,
     "metadata": {},
     "output_type": "execute_result"
    }
   ],
   "source": [
    "df_final.head()"
   ]
  },
  {
   "cell_type": "code",
   "execution_count": 25,
   "metadata": {},
   "outputs": [
    {
     "data": {
      "text/plain": [
       "5316"
      ]
     },
     "execution_count": 25,
     "metadata": {},
     "output_type": "execute_result"
    }
   ],
   "source": [
    "len(df_final)"
   ]
  },
  {
   "cell_type": "code",
   "execution_count": 26,
   "metadata": {},
   "outputs": [],
   "source": [
    "df_final.to_csv(\"data/tweets_nondepressed_final.csv\")"
   ]
  },
  {
   "cell_type": "code",
   "execution_count": null,
   "metadata": {},
   "outputs": [],
   "source": []
  }
 ],
 "metadata": {
  "kernelspec": {
   "display_name": "Python 3",
   "language": "python",
   "name": "python3"
  },
  "language_info": {
   "codemirror_mode": {
    "name": "ipython",
    "version": 3
   },
   "file_extension": ".py",
   "mimetype": "text/x-python",
   "name": "python",
   "nbconvert_exporter": "python",
   "pygments_lexer": "ipython3",
   "version": "3.7.3"
  }
 },
 "nbformat": 4,
 "nbformat_minor": 4
}
